{
 "cells": [
  {
   "cell_type": "markdown",
   "metadata": {},
   "source": [
    "# Using Textblob for text processing"
   ]
  },
  {
   "cell_type": "code",
   "execution_count": 1,
   "metadata": {},
   "outputs": [],
   "source": [
    "# pip install textblob\n",
    "from textblob import TextBlob\n",
    "\n",
    "string= 'Thank you. God bles you. And God bless the United States of America.'\n",
    "blob = TextBlob(string)                   # Note the typo"
   ]
  },
  {
   "cell_type": "code",
   "execution_count": 2,
   "metadata": {},
   "outputs": [
    {
     "data": {
      "text/plain": [
       "[Sentence(\"Thank you.\"),\n",
       " Sentence(\"God bles you.\"),\n",
       " Sentence(\"And God bless the United States of America.\")]"
      ]
     },
     "execution_count": 2,
     "metadata": {},
     "output_type": "execute_result"
    }
   ],
   "source": [
    "blob.sentences"
   ]
  },
  {
   "cell_type": "code",
   "execution_count": 3,
   "metadata": {},
   "outputs": [
    {
     "data": {
      "text/plain": [
       "WordList(['Thank', 'you', 'God', 'bles', 'you', 'And', 'God', 'bless', 'the', 'United', 'States', 'of', 'America'])"
      ]
     },
     "execution_count": 3,
     "metadata": {},
     "output_type": "execute_result"
    }
   ],
   "source": [
    "blob.words"
   ]
  },
  {
   "cell_type": "code",
   "execution_count": 4,
   "metadata": {},
   "outputs": [
    {
     "data": {
      "text/plain": [
       "[('Thank', 'NNP'),\n",
       " ('you', 'PRP'),\n",
       " ('God', 'NNP'),\n",
       " ('bles', 'VBZ'),\n",
       " ('you', 'PRP'),\n",
       " ('And', 'CC'),\n",
       " ('God', 'NNP'),\n",
       " ('bless', 'VBD'),\n",
       " ('the', 'DT'),\n",
       " ('United', 'NNP'),\n",
       " ('States', 'NNPS'),\n",
       " ('of', 'IN'),\n",
       " ('America', 'NNP')]"
      ]
     },
     "execution_count": 4,
     "metadata": {},
     "output_type": "execute_result"
    }
   ],
   "source": [
    "blob.tags"
   ]
  },
  {
   "cell_type": "code",
   "execution_count": 5,
   "metadata": {},
   "outputs": [
    {
     "data": {
      "text/plain": [
       "[('Thank', 1.0)]"
      ]
     },
     "execution_count": 5,
     "metadata": {},
     "output_type": "execute_result"
    }
   ],
   "source": [
    "blob.words[0].spellcheck()  "
   ]
  },
  {
   "cell_type": "code",
   "execution_count": 6,
   "metadata": {},
   "outputs": [
    {
     "data": {
      "text/plain": [
       "[('bees', 0.32),\n",
       " ('les', 0.24),\n",
       " ('blew', 0.14666666666666667),\n",
       " ('bless', 0.13333333333333333),\n",
       " ('bled', 0.06666666666666667),\n",
       " ('blebs', 0.05333333333333334),\n",
       " ('bales', 0.02666666666666667),\n",
       " ('blest', 0.013333333333333334)]"
      ]
     },
     "execution_count": 6,
     "metadata": {},
     "output_type": "execute_result"
    }
   ],
   "source": [
    "# spellcheck() returns a list of suggested corrections and corresponding confidence level\n",
    "\n",
    "blob.words[3].spellcheck() "
   ]
  },
  {
   "cell_type": "code",
   "execution_count": 7,
   "metadata": {},
   "outputs": [
    {
     "data": {
      "text/plain": [
       "TextBlob(\"Thank you. God bees you. And God bless the United States of America.\")"
      ]
     },
     "execution_count": 7,
     "metadata": {},
     "output_type": "execute_result"
    }
   ],
   "source": [
    "blob.correct()                            # Corrects typographical errors"
   ]
  },
  {
   "cell_type": "code",
   "execution_count": 8,
   "metadata": {},
   "outputs": [
    {
     "name": "stdout",
     "output_type": "stream",
     "text": [
      "Thanks\n",
      "Gods\n",
      "Gods\n",
      "Uniteds\n",
      "Americas\n"
     ]
    }
   ],
   "source": [
    "for word, pos in blob.tags:\n",
    "    if pos == 'NNP':\n",
    "        print (word.pluralize())"
   ]
  },
  {
   "cell_type": "code",
   "execution_count": 10,
   "metadata": {},
   "outputs": [
    {
     "data": {
      "text/plain": [
       "'run'"
      ]
     },
     "execution_count": 10,
     "metadata": {},
     "output_type": "execute_result"
    }
   ],
   "source": [
    "from textblob import Word      \n",
    "w = Word('running')                       # Converts strings into blob words\n",
    "w.lemmatize('v')                          # Lemmatize as verb"
   ]
  },
  {
   "cell_type": "code",
   "execution_count": 11,
   "metadata": {},
   "outputs": [
    {
     "name": "stdout",
     "output_type": "stream",
     "text": [
      "['Thank', 'you', 'God']\n",
      "['you', 'God', 'bles']\n",
      "['God', 'bles', 'you']\n",
      "['bles', 'you', 'And']\n",
      "['you', 'And', 'God']\n",
      "['And', 'God', 'bless']\n",
      "['God', 'bless', 'the']\n",
      "['bless', 'the', 'United']\n",
      "['the', 'United', 'States']\n",
      "['United', 'States', 'of']\n",
      "['States', 'of', 'America']\n"
     ]
    }
   ],
   "source": [
    "for ngram in blob.ngrams(3):\n",
    "    print(ngram)"
   ]
  },
  {
   "cell_type": "code",
   "execution_count": 13,
   "metadata": {},
   "outputs": [
    {
     "name": "stdout",
     "output_type": "stream",
     "text": [
      "This text is about...\n",
      "boxes\n",
      "cats\n",
      "boxes\n"
     ]
    }
   ],
   "source": [
    "import random\n",
    "blob = TextBlob('The cat is in the box. The cat likes the box. The box is over the cat.')\n",
    "nouns = list()\n",
    "for word, tag in blob.tags:\n",
    "    if tag == 'NN':\n",
    "        nouns.append(word.lemmatize())\n",
    "\n",
    "print(\"This text is about...\")\n",
    "for item in random.sample(nouns, 3):\n",
    "    word = Word(item)\n",
    "    print (word.pluralize())\n"
   ]
  },
  {
   "cell_type": "code",
   "execution_count": 14,
   "metadata": {},
   "outputs": [
    {
     "data": {
      "text/plain": [
       "'en'"
      ]
     },
     "execution_count": 14,
     "metadata": {},
     "output_type": "execute_result"
    }
   ],
   "source": [
    "# Textblob has a translation feature that uses ISO 639-1 language codes: \n",
    "# https://en.wikipedia.org/wiki/List_of_ISO_639-1_codes\n",
    "\n",
    "blob.detect_language()"
   ]
  },
  {
   "cell_type": "code",
   "execution_count": 15,
   "metadata": {},
   "outputs": [
    {
     "data": {
      "text/plain": [
       "TextBlob(\"El gato está en la caja. Al gato le gusta la caja. La caja está sobre el gato.\")"
      ]
     },
     "execution_count": 15,
     "metadata": {},
     "output_type": "execute_result"
    }
   ],
   "source": [
    "blob.translate(from_lang='en', to ='es')"
   ]
  },
  {
   "cell_type": "code",
   "execution_count": 16,
   "metadata": {},
   "outputs": [
    {
     "data": {
      "text/plain": [
       "TextBlob(\"猫在盒子里。猫喜欢盒子。盒子在猫身上。\")"
      ]
     },
     "execution_count": 16,
     "metadata": {},
     "output_type": "execute_result"
    }
   ],
   "source": [
    "blob.translate(from_lang='en', to ='zh-CN')"
   ]
  },
  {
   "cell_type": "code",
   "execution_count": 17,
   "metadata": {},
   "outputs": [
    {
     "data": {
      "text/plain": [
       "TextBlob(\"القطة في الصندوق. القط يحب الصندوق. الصندوق فوق القطة.\")"
      ]
     },
     "execution_count": 17,
     "metadata": {},
     "output_type": "execute_result"
    }
   ],
   "source": [
    "blob.translate(from_lang='en', to ='ar')"
   ]
  },
  {
   "cell_type": "code",
   "execution_count": 18,
   "metadata": {},
   "outputs": [
    {
     "data": {
      "text/plain": [
       "TextBlob(\"बिल्ली बक्से में है। बिल्ली को बॉक्स पसंद है। बॉक्स बिल्ली के ऊपर है।\")"
      ]
     },
     "execution_count": 18,
     "metadata": {},
     "output_type": "execute_result"
    }
   ],
   "source": [
    "blob.translate(from_lang='en', to ='hi')"
   ]
  },
  {
   "cell_type": "code",
   "execution_count": 19,
   "metadata": {},
   "outputs": [
    {
     "data": {
      "text/plain": [
       "TextBlob(\"పిల్లి పెట్టెలో ఉంది. పిల్లికి పెట్టె ఇష్టం. పెట్టె పిల్లి మీద ఉంది.\")"
      ]
     },
     "execution_count": 19,
     "metadata": {},
     "output_type": "execute_result"
    }
   ],
   "source": [
    "blob.translate(from_lang='en', to ='te')"
   ]
  },
  {
   "cell_type": "code",
   "execution_count": 20,
   "metadata": {},
   "outputs": [
    {
     "data": {
      "text/plain": [
       "TextBlob(\"பூனை பெட்டியில் உள்ளது. பூனைக்கு பெட்டி பிடிக்கும். பெட்டி பூனைக்கு மேல் உள்ளது.\")"
      ]
     },
     "execution_count": 20,
     "metadata": {},
     "output_type": "execute_result"
    }
   ],
   "source": [
    "blob.translate(from_lang='en', to ='ta')"
   ]
  },
  {
   "cell_type": "code",
   "execution_count": 21,
   "metadata": {},
   "outputs": [
    {
     "data": {
      "text/plain": [
       "Sentiment(polarity=0.0, subjectivity=0.0)"
      ]
     },
     "execution_count": 21,
     "metadata": {},
     "output_type": "execute_result"
    }
   ],
   "source": [
    "# Sentiment analysis using Textblob\n",
    "# Polarity: [-1,1] negative to positive \n",
    "# Subjectivity: [0,1] Factual information (objectivty) or personal opinion, emotion or judgment\n",
    "\n",
    "blob.sentiment"
   ]
  },
  {
   "cell_type": "code",
   "execution_count": 22,
   "metadata": {},
   "outputs": [
    {
     "data": {
      "text/plain": [
       "0.0"
      ]
     },
     "execution_count": 22,
     "metadata": {},
     "output_type": "execute_result"
    }
   ],
   "source": [
    "blob.sentiment.polarity"
   ]
  },
  {
   "cell_type": "code",
   "execution_count": 23,
   "metadata": {},
   "outputs": [
    {
     "data": {
      "text/plain": [
       "0.0"
      ]
     },
     "execution_count": 23,
     "metadata": {},
     "output_type": "execute_result"
    }
   ],
   "source": [
    "blob.subjectivity"
   ]
  },
  {
   "cell_type": "code",
   "execution_count": 24,
   "metadata": {},
   "outputs": [
    {
     "name": "stdout",
     "output_type": "stream",
     "text": [
      "1.0\n"
     ]
    }
   ],
   "source": [
    "# Building your own sentiment analysis tool using Textblob and Machine Learning\n",
    "# Note: Textblob's classifiers require input formatted as a list of tuples (X, Y)\n",
    "\n",
    "from textblob.classifiers import NaiveBayesClassifier, DecisionTreeClassifier\n",
    "\n",
    "train = [\n",
    "('Tom Holland is a terrible spiderman.','neg'),\n",
    "('a terrible Javert (Russell Crowe) ruined Les Miserables for me...','neg'),\n",
    "('The Dark Knight Rises is the greatest superhero movie ever!','pos'),\n",
    "('Fantastic Four should have never been made.','neg'),\n",
    "('Wes Anderson is my favorite director!','pos'),\n",
    "('Captain America 2 is pretty awesome.','pos'),\n",
    "('Let\\'s pretend that \"Batman and Robin\" never happened..','neg'),\n",
    "]\n",
    "\n",
    "test = [\n",
    "('Superman was never an interesting character.','neg'),\n",
    "('Fantastic Mr Fox is an awesome film!','pos'),\n",
    "('Dragonball Evolution is simply terrible!!','neg')\n",
    "]\n",
    "\n",
    "nb_classifier = NaiveBayesClassifier(train)\n",
    "print(nb_classifier.accuracy(test))"
   ]
  },
  {
   "cell_type": "code",
   "execution_count": 25,
   "metadata": {},
   "outputs": [
    {
     "name": "stdout",
     "output_type": "stream",
     "text": [
      "Most Informative Features\n",
      "            contains(is) = True              pos : neg    =      2.9 : 1.0\n",
      "         contains(never) = False             pos : neg    =      1.8 : 1.0\n",
      "             contains(a) = False             pos : neg    =      1.8 : 1.0\n"
     ]
    }
   ],
   "source": [
    "nb_classifier.show_informative_features(3)"
   ]
  },
  {
   "cell_type": "code",
   "execution_count": 26,
   "metadata": {},
   "outputs": [
    {
     "name": "stdout",
     "output_type": "stream",
     "text": [
      "pos\n"
     ]
    }
   ],
   "source": [
    "blob = TextBlob(\"The weather is terrible!\", classifier=nb_classifier)\n",
    "print(blob.classify())"
   ]
  },
  {
   "cell_type": "code",
   "execution_count": 27,
   "metadata": {},
   "outputs": [
    {
     "name": "stdout",
     "output_type": "stream",
     "text": [
      "neg\n"
     ]
    }
   ],
   "source": [
    "blob = TextBlob(\"Today's weather is terrible!\", classifier=nb_classifier)\n",
    "print(blob.classify())"
   ]
  },
  {
   "cell_type": "code",
   "execution_count": 28,
   "metadata": {},
   "outputs": [
    {
     "name": "stdout",
     "output_type": "stream",
     "text": [
      "1.0\n"
     ]
    }
   ],
   "source": [
    "dt_classifier = DecisionTreeClassifier(train)\n",
    "print(nb_classifier.accuracy(test))"
   ]
  },
  {
   "cell_type": "code",
   "execution_count": 29,
   "metadata": {},
   "outputs": [
    {
     "name": "stdout",
     "output_type": "stream",
     "text": [
      "Most Informative Features\n",
      "            contains(is) = True              pos : neg    =      2.9 : 1.0\n",
      "         contains(never) = False             pos : neg    =      1.8 : 1.0\n",
      "             contains(a) = False             pos : neg    =      1.8 : 1.0\n"
     ]
    }
   ],
   "source": [
    "nb_classifier.show_informative_features(3)"
   ]
  },
  {
   "cell_type": "code",
   "execution_count": 30,
   "metadata": {},
   "outputs": [
    {
     "name": "stdout",
     "output_type": "stream",
     "text": [
      "pos\n"
     ]
    }
   ],
   "source": [
    "blob = TextBlob(\"The weather is terrible!\", classifier=dt_classifier)\n",
    "print(blob.classify())"
   ]
  },
  {
   "cell_type": "code",
   "execution_count": 31,
   "metadata": {},
   "outputs": [
    {
     "name": "stdout",
     "output_type": "stream",
     "text": [
      "pos\n"
     ]
    }
   ],
   "source": [
    "blob = TextBlob(\"Today's weather is terrible!\", classifier=dt_classifier)\n",
    "print(blob.classify())"
   ]
  },
  {
   "cell_type": "code",
   "execution_count": 32,
   "metadata": {},
   "outputs": [],
   "source": [
    "# So you can see how dangerous it is to build a classifier with insufficient data input"
   ]
  }
 ],
 "metadata": {
  "kernelspec": {
   "display_name": "Python 3",
   "language": "python",
   "name": "python3"
  },
  "language_info": {
   "codemirror_mode": {
    "name": "ipython",
    "version": 3
   },
   "file_extension": ".py",
   "mimetype": "text/x-python",
   "name": "python",
   "nbconvert_exporter": "python",
   "pygments_lexer": "ipython3",
   "version": "3.8.5"
  }
 },
 "nbformat": 4,
 "nbformat_minor": 2
}
