{
 "cells": [
  {
   "cell_type": "markdown",
   "metadata": {},
   "source": [
    "## Feature Extraction from Booking.com Reviews\n",
    "\n",
    "##### Questions:\n",
    " 1. What are the top five features that customers talk about most in positive and negative comments about Booking.com hotels?\n",
    " 2. What are the top five features that customers prefer most if they are a solo traveler vs traveling with a group vs on a business trip vs a leisure trip vs traveling as a couple vs a family with young children (in \"Tags\" field)? \n",
    " 3. What are the top five features that customers like most and top five features they complain about most about hotels in United Kingdom, France, Italy, and Spain (in \"Hotel_Address\" field)?\n",
    "\n",
    "Note: We are assuming that hotel features are like \"comfortable bed\" or \"poor location\", i.e., ordered sequences of adjectives and nouns. So we will use POS tagging to extract \"adjective noun\" bigrams. "
   ]
  },
  {
   "cell_type": "code",
   "execution_count": 1,
   "metadata": {},
   "outputs": [
    {
     "data": {
      "text/plain": [
       "(515738, 12)"
      ]
     },
     "execution_count": 1,
     "metadata": {},
     "output_type": "execute_result"
    }
   ],
   "source": [
    "import pandas as pd\n",
    "import nltk\n",
    "\n",
    "df = pd.read_excel('C:/Users/abhatt/Desktop/Text_Analytics/python/data/Hotel_Reviews_BookingDotCom.xlsx')\n",
    "df.shape "
   ]
  },
  {
   "cell_type": "code",
   "execution_count": 2,
   "metadata": {},
   "outputs": [
    {
     "data": {
      "text/plain": [
       "Index(['Hotel_Name', 'Hotel_Address', 'Review_Count',\n",
       "       'Non_Review_Scoring_Count', 'Average_Hotel_Score', 'Review_Date',\n",
       "       'Reviewer_Nationality', 'Positive_Comments', 'Negative_Comments',\n",
       "       'Total_Reviewer_Reviews', 'Reviewer_Score', 'Tags'],\n",
       "      dtype='object')"
      ]
     },
     "execution_count": 2,
     "metadata": {},
     "output_type": "execute_result"
    }
   ],
   "source": [
    "df.columns"
   ]
  },
  {
   "cell_type": "markdown",
   "metadata": {},
   "source": [
    "There are over 500,000 hotel reviews in this data set, which takes quite a bit of time to process. To reduce computational load, let's use a 10% random sample of the data (50,000 records). "
   ]
  },
  {
   "cell_type": "code",
   "execution_count": 3,
   "metadata": {},
   "outputs": [],
   "source": [
    "d = df.sample(n=50000)"
   ]
  },
  {
   "cell_type": "markdown",
   "metadata": {},
   "source": [
    "##### Top 5 features that customers mention most in positive and negative reviews\n",
    "\n",
    "Function to extract top 5 adjective-noun pairs from an input Pandas series d"
   ]
  },
  {
   "cell_type": "code",
   "execution_count": 4,
   "metadata": {},
   "outputs": [],
   "source": [
    "def top_5(d):\n",
    "    comment_list = d.tolist()                                      # Convert a Pandas series to a list\n",
    "    comment_list = [c for c in comment_list if pd.isnull(c)==False]\n",
    "    comment_str  = ' '.join(comment_list)                          # Concatenate all comments to one string\n",
    "    tokenized = nltk.word_tokenize(comment_str)                    # Tokenize into words\n",
    "    tokenized = [w for w in tokenized if len(w)>2]\n",
    "    tagged = nltk.pos_tag(tokenized, tagset='universal')           # Extract POS tags for each word\n",
    "    bigrams = nltk.bigrams(tagged)                                 # Extract bigrams of POS tagged words\n",
    "    adj_noun = [(x, y) for x, y in bigrams if x[1]=='ADJ' and y[1]=='NOUN']\n",
    "    adj_noun = [i[0][0] + ' ' + i[1][0] for i in adj_noun]         # Convert ADJ-NOUN bigram list into a list of strings\n",
    "    return nltk.FreqDist(adj_noun).most_common(5)                  # Return the 5 most common ADJ-NOUN strings"
   ]
  },
  {
   "cell_type": "code",
   "execution_count": 5,
   "metadata": {},
   "outputs": [
    {
     "data": {
      "text/plain": [
       "418362                                           everything\n",
       "367148               very nice place and very good location\n",
       "188321                             the bed and the cleaning\n",
       "424922                great breakfast nice large comfy bed \n",
       "508300     the hotel is very boutique and is sumptuosly ...\n",
       "                                ...                        \n",
       "101694                      they looked after us very well \n",
       "306852                                             location\n",
       "60431      spacious room friendly staff very very quiet ...\n",
       "157658     this hotel is a gem of a find close to major ...\n",
       "158596     the rooms although small are very comfortable...\n",
       "Name: Positive_Comments, Length: 46441, dtype: object"
      ]
     },
     "execution_count": 5,
     "metadata": {},
     "output_type": "execute_result"
    }
   ],
   "source": [
    "dpos = d['Positive_Comments'][d['Positive_Comments']!=\"No Positive\"].str.lower()\n",
    "dneg = d['Negative_Comments'][d['Negative_Comments']!=\"No Negative\"].str.lower()\n",
    "dpos"
   ]
  },
  {
   "cell_type": "code",
   "execution_count": 6,
   "metadata": {},
   "outputs": [
    {
     "data": {
      "text/plain": [
       "[('great location', 2945),\n",
       " ('friendly staff', 2388),\n",
       " ('good location', 1932),\n",
       " ('helpful staff', 1739),\n",
       " ('excellent location', 1113)]"
      ]
     },
     "execution_count": 6,
     "metadata": {},
     "output_type": "execute_result"
    }
   ],
   "source": [
    "top_5(dpos)"
   ]
  },
  {
   "cell_type": "code",
   "execution_count": 7,
   "metadata": {},
   "outputs": [
    {
     "data": {
      "text/plain": [
       "[('small room', 551),\n",
       " ('double room', 226),\n",
       " ('hot water', 211),\n",
       " ('little bit', 201),\n",
       " ('small rooms', 200)]"
      ]
     },
     "execution_count": 7,
     "metadata": {},
     "output_type": "execute_result"
    }
   ],
   "source": [
    "top_5(dneg)"
   ]
  },
  {
   "cell_type": "markdown",
   "metadata": {},
   "source": [
    "##### Top 5 positive features by tags: Leisure trip, Solo Traveler, Couple, Family with young children, Group"
   ]
  },
  {
   "cell_type": "code",
   "execution_count": 8,
   "metadata": {},
   "outputs": [],
   "source": [
    "def top_5_by_tag(tagname):\n",
    "    dpos = d['Positive_Comments'][d['Tags'].str.contains(tagname)].str.lower()\n",
    "    return top_5(dpos)"
   ]
  },
  {
   "cell_type": "code",
   "execution_count": 9,
   "metadata": {},
   "outputs": [
    {
     "data": {
      "text/plain": [
       "[('great location', 2485),\n",
       " ('friendly staff', 1938),\n",
       " ('good location', 1535),\n",
       " ('helpful staff', 1452),\n",
       " ('excellent location', 925)]"
      ]
     },
     "execution_count": 9,
     "metadata": {},
     "output_type": "execute_result"
    }
   ],
   "source": [
    "# Top 5 features for Leisure trip\n",
    "top_5_by_tag('Leisure trip')"
   ]
  },
  {
   "cell_type": "code",
   "execution_count": 10,
   "metadata": {},
   "outputs": [
    {
     "data": {
      "text/plain": [
       "[('great location', 551),\n",
       " ('friendly staff', 534),\n",
       " ('good location', 392),\n",
       " ('helpful staff', 320),\n",
       " ('excellent location', 214)]"
      ]
     },
     "execution_count": 10,
     "metadata": {},
     "output_type": "execute_result"
    }
   ],
   "source": [
    "top_5_by_tag('Solo traveler')"
   ]
  },
  {
   "cell_type": "code",
   "execution_count": 11,
   "metadata": {},
   "outputs": [
    {
     "data": {
      "text/plain": [
       "[('great location', 1501),\n",
       " ('friendly staff', 1171),\n",
       " ('good location', 936),\n",
       " ('helpful staff', 889),\n",
       " ('excellent location', 548)]"
      ]
     },
     "execution_count": 11,
     "metadata": {},
     "output_type": "execute_result"
    }
   ],
   "source": [
    "top_5_by_tag('Couple')"
   ]
  },
  {
   "cell_type": "code",
   "execution_count": 12,
   "metadata": {},
   "outputs": [
    {
     "data": {
      "text/plain": [
       "[('great location', 317),\n",
       " ('friendly staff', 260),\n",
       " ('good location', 218),\n",
       " ('helpful staff', 193),\n",
       " ('excellent location', 146)]"
      ]
     },
     "execution_count": 12,
     "metadata": {},
     "output_type": "execute_result"
    }
   ],
   "source": [
    "top_5_by_tag('Family with young children')"
   ]
  },
  {
   "cell_type": "code",
   "execution_count": 13,
   "metadata": {},
   "outputs": [
    {
     "data": {
      "text/plain": [
       "[('great location', 392),\n",
       " ('friendly staff', 293),\n",
       " ('good location', 256),\n",
       " ('helpful staff', 213),\n",
       " ('excellent location', 131)]"
      ]
     },
     "execution_count": 13,
     "metadata": {},
     "output_type": "execute_result"
    }
   ],
   "source": [
    "top_5_by_tag('Group')"
   ]
  },
  {
   "cell_type": "markdown",
   "metadata": {},
   "source": [
    "##### Top 5 positive and negative features by country: United Kingdom, France, Italy, and Spain"
   ]
  },
  {
   "cell_type": "code",
   "execution_count": 14,
   "metadata": {},
   "outputs": [],
   "source": [
    "def top_5_pos_by_country(cname):\n",
    "    dtemp = d['Positive_Comments'][d['Hotel_Address'].str.contains(cname)].str.lower()\n",
    "    return top_5(dtemp)\n",
    "\n",
    "def top_5_neg_by_country(cname):\n",
    "    dtemp = d['Negative_Comments'][d['Hotel_Address'].str.contains(cname)].str.lower()\n",
    "    return top_5(dtemp)"
   ]
  },
  {
   "cell_type": "code",
   "execution_count": 15,
   "metadata": {},
   "outputs": [
    {
     "name": "stdout",
     "output_type": "stream",
     "text": [
      "\n",
      "Country: United Kingdom\n",
      "Most liked features: [('great location', 1457), ('friendly staff', 1185), ('good location', 985), ('helpful staff', 801), ('excellent location', 513)]\n",
      "Most disliked features: [('small room', 344), ('negative nothing', 322), ('negative room', 257), ('double room', 132), ('hot water', 122)]\n",
      "\n",
      "Country: France\n",
      "Most liked features: [('great location', 392), ('friendly staff', 296), ('helpful staff', 239), ('good location', 230), ('excellent location', 138)]\n",
      "Most disliked features: [('negative nothing', 105), ('small room', 85), ('negative room', 66), ('small rooms', 40), ('negative breakfast', 40)]\n",
      "\n",
      "Country: Italy\n",
      "Most liked features: [('great location', 173), ('friendly staff', 154), ('good breakfast', 151), ('good location', 149), ('helpful staff', 112)]\n",
      "Most disliked features: [('negative nothing', 62), ('negative breakfast', 28), ('negative room', 25), ('little bit', 25), ('hot water', 18)]\n",
      "\n",
      "Country: Spain\n",
      "Most liked features: [('great location', 386), ('friendly staff', 288), ('good location', 251), ('helpful staff', 227), ('excellent location', 160)]\n",
      "Most disliked features: [('negative nothing', 106), ('small room', 36), ('single beds', 33), ('negative room', 33), ('little bit', 32)]\n"
     ]
    }
   ],
   "source": [
    "country_list = ['United Kingdom', 'France', 'Italy', 'Spain']\n",
    "\n",
    "for c in country_list:\n",
    "    print('\\nCountry:', c)\n",
    "    print('Most liked features:', top_5_pos_by_country(c))\n",
    "    print('Most disliked features:', top_5_neg_by_country(c))"
   ]
  },
  {
   "cell_type": "markdown",
   "metadata": {},
   "source": [
    "##### It is NOT ENOUGH to just write some code and show some output, you have to (1) answer the questions asked and (2) and make sure that your answers \"makes sense\".\n",
    "\n",
    "Since the top 5 liked features are location, staff, location, staff, and location, and top 5 disliked features are room, room, hot water, \"little bit\" and rooms, which makes no sense, how about we try the top 15 positive and negative features?"
   ]
  },
  {
   "cell_type": "code",
   "execution_count": 16,
   "metadata": {},
   "outputs": [],
   "source": [
    "def top_15(d):\n",
    "    comment_list = d.tolist()                                      # Convert a Pandas series to a list\n",
    "    comment_list = [c for c in comment_list if pd.isnull(c)==False]\n",
    "    comment_str  = ' '.join(comment_list)                          # Concatenate all comments to one string\n",
    "    tokenized = nltk.word_tokenize(comment_str)                    # Tokenize into words\n",
    "    tokenized = [w for w in tokenized if len(w)>2]\n",
    "    tagged = nltk.pos_tag(tokenized, tagset='universal')           # Extract POS tags for each word\n",
    "    bigrams = nltk.bigrams(tagged)                                 # Extract bigrams of POS tagged words\n",
    "    adj_noun = [(x, y) for x, y in bigrams if x[1]=='ADJ' and y[1]=='NOUN']\n",
    "    adj_noun = [i[0][0] + ' ' + i[1][0] for i in adj_noun]         # Convert ADJ-NOUN bigram list into a list of strings\n",
    "    return nltk.FreqDist(adj_noun).most_common(15)                  # Return the 5 most common ADJ-NOUN strings"
   ]
  },
  {
   "cell_type": "code",
   "execution_count": 17,
   "metadata": {},
   "outputs": [
    {
     "data": {
      "text/plain": [
       "[('great location', 3022),\n",
       " ('friendly staff', 2510),\n",
       " ('good location', 1954),\n",
       " ('helpful staff', 1733),\n",
       " ('excellent location', 1166),\n",
       " ('good breakfast', 911),\n",
       " ('comfortable bed', 710),\n",
       " ('perfect location', 529),\n",
       " ('comfortable room', 518),\n",
       " ('great breakfast', 487),\n",
       " ('great staff', 486),\n",
       " ('good value', 481),\n",
       " ('clean room', 451),\n",
       " ('nice staff', 396),\n",
       " ('excellent staff', 376)]"
      ]
     },
     "execution_count": 17,
     "metadata": {},
     "output_type": "execute_result"
    }
   ],
   "source": [
    "d = df.sample(frac=0.10)\n",
    "dpos = d['Positive_Comments'][d['Positive_Comments']!=\"No Positive\"].str.lower()\n",
    "dneg = d['Negative_Comments'][d['Negative_Comments']!=\"No Negative\"].str.lower()\n",
    "\n",
    "top_15(dpos)"
   ]
  },
  {
   "cell_type": "code",
   "execution_count": 18,
   "metadata": {},
   "outputs": [
    {
     "data": {
      "text/plain": [
       "[('small room', 535),\n",
       " ('double bed', 248),\n",
       " ('double room', 239),\n",
       " ('little bit', 208),\n",
       " ('small rooms', 196),\n",
       " ('hot water', 166),\n",
       " ('next day', 164),\n",
       " ('next door', 158),\n",
       " ('star hotel', 150),\n",
       " ('only thing', 149),\n",
       " ('first night', 142),\n",
       " ('single room', 137),\n",
       " ('single beds', 135),\n",
       " ('free wifi', 123),\n",
       " ('other rooms', 122)]"
      ]
     },
     "execution_count": 18,
     "metadata": {},
     "output_type": "execute_result"
    }
   ],
   "source": [
    "top_15(dneg)"
   ]
  },
  {
   "cell_type": "markdown",
   "metadata": {},
   "source": [
    "##### Q1: What are the top five features that customers talk about most in positive and negative comments about Booking.com hotels?\n",
    "\n",
    "Based on manual inspection of the top 15 results, the top 5 features customers like most are: (1) location, (2) staff helpfulness/friendliness, (3) breakfast quality, (4) bed, and (5) value (amenities commensurate with cost).The top 5 negative features that customers dislike most are: (1) room size, (2) not having hot water (?), (3) not having free wifi (?), (4) ??? and (5) ???. So even top 15 wasn't enough. Perhaps try top 25.\n",
    "\n",
    "You also have to answer Q2 and Q3 (that I'm not answering here):\n",
    "- What are the top five features that customers prefer most if they are a solo traveler vs traveling with a group vs on a business trip vs a leisure trip vs traveling as a couple vs a family with young children (in \"Tags\" field)? \n",
    "- What are the top five features that customers like most and top five features they complain about most about hotels in United Kingdom, France, Italy, and Spain (in \"Hotel_Address\" field)?"
   ]
  },
  {
   "cell_type": "markdown",
   "metadata": {},
   "source": [
    "##### Questions:\n",
    "1. In this analysis we used 50,000 records? What is a reasonable number of text records to work with?\n",
    "2. In this exercise, we did not do stopword removal, lemmatization, etc. Was that a good or bad idea?\n",
    "3. Do you see any problems with the above approach? Is there a better approach for feature extraction?"
   ]
  },
  {
   "cell_type": "markdown",
   "metadata": {},
   "source": [
    "#### Feature Extraction and Scoring"
   ]
  },
  {
   "cell_type": "code",
   "execution_count": 19,
   "metadata": {},
   "outputs": [],
   "source": [
    "from nltk.stem import WordNetLemmatizer\n",
    "lemmatizer = WordNetLemmatizer()"
   ]
  },
  {
   "cell_type": "code",
   "execution_count": 20,
   "metadata": {},
   "outputs": [],
   "source": [
    "def top_10_nouns(d):\n",
    "    comment_list = d.tolist()\n",
    "    comment_list = [c for c in comment_list if pd.isnull(c)==False]\n",
    "    comment_str  = ' '.join(comment_list) \n",
    "    words = nltk.word_tokenize(comment_str) \n",
    "    words = [w for w in words if len(w)>2]\n",
    "    words = [lemmatizer.lemmatize(w) for w in words]\n",
    "    tagged = nltk.pos_tag(words, tagset='universal')\n",
    "    nouns = [w[0] for w in tagged if w[1]=='NOUN']\n",
    "    return nltk.FreqDist(nouns).most_common(10) "
   ]
  },
  {
   "cell_type": "code",
   "execution_count": 21,
   "metadata": {},
   "outputs": [],
   "source": [
    "dpos = d['Positive_Comments'][d['Positive_Comments']!=\"No Positive\"].str.lower()\n",
    "dneg = d['Negative_Comments'][d['Negative_Comments']!=\"No Negative\"].str.lower()"
   ]
  },
  {
   "cell_type": "code",
   "execution_count": 22,
   "metadata": {},
   "outputs": [
    {
     "data": {
      "text/plain": [
       "[('staff', 19149),\n",
       " ('location', 18433),\n",
       " ('room', 17643),\n",
       " ('wa', 13036),\n",
       " ('hotel', 12527),\n",
       " ('breakfast', 7747),\n",
       " ('bed', 4442),\n",
       " ('station', 3088),\n",
       " ('service', 2716),\n",
       " ('everything', 2659)]"
      ]
     },
     "execution_count": 22,
     "metadata": {},
     "output_type": "execute_result"
    }
   ],
   "source": [
    "top_10_nouns(dpos)"
   ]
  },
  {
   "cell_type": "code",
   "execution_count": 23,
   "metadata": {},
   "outputs": [
    {
     "data": {
      "text/plain": [
       "[('room', 20283),\n",
       " ('wa', 11794),\n",
       " ('hotel', 7694),\n",
       " ('breakfast', 5211),\n",
       " ('nothing', 3814),\n",
       " ('staff', 3735),\n",
       " ('night', 2792),\n",
       " ('bed', 2716),\n",
       " ('bathroom', 2619),\n",
       " ('time', 2292)]"
      ]
     },
     "execution_count": 23,
     "metadata": {},
     "output_type": "execute_result"
    }
   ],
   "source": [
    "top_10_nouns(dneg)"
   ]
  },
  {
   "cell_type": "markdown",
   "metadata": {},
   "source": [
    "Top features mentioned in positive comments are: (1) staff, (2) location, (3) room (size? amenities?), (4) breakfast, (5) service (room service? staff service?). Top features mentioned in negative comments are: (1) room, (2) breakfast, (3) staff, (4) bed, (5) bathroom. Combining both lists, the features hotel customers care most about are: (1) room, (2) staff, (3) location, (4) breakfast, (5) bed, and (6) bathroom. "
   ]
  },
  {
   "cell_type": "code",
   "execution_count": 24,
   "metadata": {},
   "outputs": [],
   "source": [
    "features = ['room', 'staff', 'location', 'breakfast', 'bed', 'bathroom']"
   ]
  },
  {
   "cell_type": "markdown",
   "metadata": {},
   "source": [
    "To score each review on the above features, you can do the following.\n",
    " 1. Sentence tokenize each review.\n",
    " 2. Extract sentences containing the above features.\n",
    " 3. Identify sentiment polarity for these sentences.\n",
    " 4. Save feature and polarity for each review.\n",
    " 5. Compute mean polarity of each feature in each review. These mean polarities are feature-wise rating.\n",
    " 6. Compute mean polarity across reviews for each feature.\n",
    " 7. Repeat for each hotel; save feature-wise review score for each hotel in a pandas dataframe for display and plotting."
   ]
  }
 ],
 "metadata": {
  "hide_input": false,
  "kernelspec": {
   "display_name": "Python 3",
   "language": "python",
   "name": "python3"
  },
  "language_info": {
   "codemirror_mode": {
    "name": "ipython",
    "version": 3
   },
   "file_extension": ".py",
   "mimetype": "text/x-python",
   "name": "python",
   "nbconvert_exporter": "python",
   "pygments_lexer": "ipython3",
   "version": "3.8.5"
  }
 },
 "nbformat": 4,
 "nbformat_minor": 4
}
